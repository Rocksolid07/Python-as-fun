{
 "cells": [
  {
   "cell_type": "code",
   "execution_count": 1,
   "id": "cb265c4f",
   "metadata": {},
   "outputs": [],
   "source": [
    "import numpy as np\n",
    "\n",
    "\n"
   ]
  },
  {
   "cell_type": "code",
   "execution_count": 2,
   "id": "6bd36024",
   "metadata": {},
   "outputs": [
    {
     "name": "stdout",
     "output_type": "stream",
     "text": [
      "1D Array:\n",
      "[0 1 2 3 4 5 6 7 8 9]\n"
     ]
    }
   ],
   "source": [
    "#Project:Basic Data analytics operations\n",
    "\n",
    "#Create a numpy array\n",
    "data = np.arange(10)\n",
    "print(\"1D Array:\")\n",
    "print(data)\n"
   ]
  },
  {
   "cell_type": "code",
   "execution_count": 3,
   "id": "f55da81c",
   "metadata": {},
   "outputs": [
    {
     "name": "stdout",
     "output_type": "stream",
     "text": [
      "\n",
      "Reshaped Array:\n",
      "[[0 1 2 3 4]\n",
      " [5 6 7 8 9]]\n"
     ]
    }
   ],
   "source": [
    "#Reshape the array\n",
    "reshaped_data=data.reshape(2,5)\n",
    "print(\"\\nReshaped Array:\")\n",
    "print(reshaped_data)"
   ]
  },
  {
   "cell_type": "code",
   "execution_count": 4,
   "id": "06d020bf",
   "metadata": {},
   "outputs": [
    {
     "name": "stdout",
     "output_type": "stream",
     "text": [
      "\n",
      "Mean of the data:\n",
      "4.5\n"
     ]
    }
   ],
   "source": [
    "#Basic Statistics\n",
    "#Mean\n",
    "mean_value=np.mean(data)\n",
    "print(\"\\nMean of the data:\")\n",
    "print(mean_value)"
   ]
  },
  {
   "cell_type": "code",
   "execution_count": 5,
   "id": "9e9d6f63",
   "metadata": {},
   "outputs": [
    {
     "name": "stdout",
     "output_type": "stream",
     "text": [
      "\n",
      "Median of the data:\n",
      "4.5\n"
     ]
    }
   ],
   "source": [
    "#median\n",
    "median_value=np.median(data)\n",
    "print(\"\\nMedian of the data:\")\n",
    "print(median_value)"
   ]
  },
  {
   "cell_type": "code",
   "execution_count": 6,
   "id": "01412d9d",
   "metadata": {},
   "outputs": [
    {
     "name": "stdout",
     "output_type": "stream",
     "text": [
      "\n",
      "Standard deviation of the data:\n",
      "2.8722813232690143\n"
     ]
    }
   ],
   "source": [
    "#Standard deviation\n",
    "std_deviation=np.std(data)\n",
    "print(\"\\nStandard deviation of the data:\")\n",
    "print(std_deviation)\n"
   ]
  },
  {
   "cell_type": "code",
   "execution_count": 15,
   "id": "c51eaf7b",
   "metadata": {},
   "outputs": [],
   "source": [
    "#Array operations\n",
    "data2=np.array([10,20,30,40,50,60,70,80,90,100])"
   ]
  },
  {
   "cell_type": "code",
   "execution_count": 16,
   "id": "0deec31a",
   "metadata": {},
   "outputs": [
    {
     "name": "stdout",
     "output_type": "stream",
     "text": [
      "\n",
      "Added array:\n",
      "[ 10  21  32  43  54  65  76  87  98 109]\n"
     ]
    }
   ],
   "source": [
    "#Adding\n",
    "added_data = data + data2\n",
    "print(\"\\nAdded array:\")\n",
    "print(added_data)"
   ]
  },
  {
   "cell_type": "code",
   "execution_count": 17,
   "id": "ac7c9b49",
   "metadata": {},
   "outputs": [
    {
     "name": "stdout",
     "output_type": "stream",
     "text": [
      "\n",
      "Subtracted array:\n",
      "[-10 -19 -28 -37 -46 -55 -64 -73 -82 -91]\n"
     ]
    }
   ],
   "source": [
    "#Substract\n",
    "sub_data = data - data2\n",
    "print(\"\\nSubtracted array:\")\n",
    "print(sub_data)\n"
   ]
  },
  {
   "cell_type": "code",
   "execution_count": 18,
   "id": "cb17fc6c",
   "metadata": {},
   "outputs": [
    {
     "name": "stdout",
     "output_type": "stream",
     "text": [
      "\n",
      "Multiplied array:\n",
      "[  0  20  60 120 200 300 420 560 720 900]\n"
     ]
    }
   ],
   "source": [
    "#Multiply\n",
    "mul_data = data * data2\n",
    "print(\"\\nMultiplied array:\")\n",
    "print(mul_data)\n"
   ]
  },
  {
   "cell_type": "code",
   "execution_count": 19,
   "id": "88a6d593",
   "metadata": {},
   "outputs": [
    {
     "name": "stdout",
     "output_type": "stream",
     "text": [
      "\n",
      "Divided data:\n",
      "[10. 10. 10. 10. 10. 10. 10. 10. 10. 10.]\n"
     ]
    }
   ],
   "source": [
    "#Divide\n",
    "div_data = data2 / (data+1)\n",
    "print(\"\\nDivided data:\")\n",
    "print(div_data)"
   ]
  },
  {
   "cell_type": "code",
   "execution_count": 20,
   "id": "ef2d013e",
   "metadata": {},
   "outputs": [
    {
     "name": "stdout",
     "output_type": "stream",
     "text": [
      "\n",
      "Boolean data > 5\n",
      "[False False False False False False  True  True  True  True]\n"
     ]
    }
   ],
   "source": [
    "#boolean indexing\n",
    "boo_data = data > 5\n",
    "print(\"\\nBoolean data > 5\")\n",
    "print(boo_data)\n"
   ]
  },
  {
   "cell_type": "code",
   "execution_count": 22,
   "id": "8b04b0f2",
   "metadata": {},
   "outputs": [
    {
     "name": "stdout",
     "output_type": "stream",
     "text": [
      "\n",
      "Filtered data:\n",
      "[6 7 8 9]\n"
     ]
    }
   ],
   "source": [
    "filter_data = data[boo_data]\n",
    "print(\"\\nFiltered data:\")\n",
    "print(filter_data)\n"
   ]
  },
  {
   "cell_type": "code",
   "execution_count": 23,
   "id": "8dad7e77",
   "metadata": {},
   "outputs": [
    {
     "name": "stdout",
     "output_type": "stream",
     "text": [
      "\n",
      "First row of reshaped data\n",
      "[0 1 2 3 4]\n"
     ]
    }
   ],
   "source": [
    "#slicing\n",
    "fi_row = reshaped_data[0,:]\n",
    "print(\"\\nFirst row of reshaped data\")\n",
    "print(fi_row)"
   ]
  },
  {
   "cell_type": "code",
   "execution_count": 26,
   "id": "34da6108",
   "metadata": {},
   "outputs": [
    {
     "name": "stdout",
     "output_type": "stream",
     "text": [
      "\n",
      "Split data into two subs:\n",
      "[array([[0, 1, 2, 3, 4]]), array([[5, 6, 7, 8, 9]])]\n"
     ]
    }
   ],
   "source": [
    "#splitting\n",
    "sp_data=np.split(reshaped_data,2)\n",
    "print(\"\\nSplit data into two subs:\")\n",
    "print(sp_data)"
   ]
  },
  {
   "cell_type": "code",
   "execution_count": 27,
   "id": "2549d1cc",
   "metadata": {},
   "outputs": [
    {
     "name": "stdout",
     "output_type": "stream",
     "text": [
      "\n",
      "Merged data:\n",
      "[[0 1 2 3 4]\n",
      " [5 6 7 8 9]]\n"
     ]
    }
   ],
   "source": [
    "#merging\n",
    "mer_data=np.concatenate(sp_data)\n",
    "print(\"\\nMerged data:\")\n",
    "print(mer_data)"
   ]
  },
  {
   "cell_type": "code",
   "execution_count": 29,
   "id": "0971bd07",
   "metadata": {},
   "outputs": [],
   "source": [
    "#stacking\n",
    "array1 = np.array(([1,2],[3,4]))\n",
    "array2 = np.array(([5,6],[7,8]))\n",
    "\n"
   ]
  },
  {
   "cell_type": "code",
   "execution_count": 30,
   "id": "de8334da",
   "metadata": {},
   "outputs": [
    {
     "name": "stdout",
     "output_type": "stream",
     "text": [
      "\n",
      "Vertical stacked data:\n",
      "[[1 2]\n",
      " [3 4]\n",
      " [5 6]\n",
      " [7 8]]\n"
     ]
    }
   ],
   "source": [
    "#vertical stacking\n",
    "vsta_data = np.vstack((array1,array2))\n",
    "print(\"\\nVertical stacked data:\")\n",
    "print(vsta_data)"
   ]
  },
  {
   "cell_type": "code",
   "execution_count": 31,
   "id": "e00e675e",
   "metadata": {},
   "outputs": [
    {
     "name": "stdout",
     "output_type": "stream",
     "text": [
      "\n",
      "Horizontal stacked data:\n",
      "[[1 2 5 6]\n",
      " [3 4 7 8]]\n"
     ]
    }
   ],
   "source": [
    "#horzintal stacking\n",
    "hsta_data = np.hstack((array1,array2))\n",
    "print(\"\\nHorizontal stacked data:\")\n",
    "print(hsta_data)"
   ]
  },
  {
   "cell_type": "code",
   "execution_count": 32,
   "id": "e5351075",
   "metadata": {},
   "outputs": [],
   "source": [
    "np.save('data.npy',data)"
   ]
  },
  {
   "cell_type": "code",
   "execution_count": null,
   "id": "ed72abfc",
   "metadata": {},
   "outputs": [],
   "source": []
  }
 ],
 "metadata": {
  "kernelspec": {
   "display_name": "Python 3 (ipykernel)",
   "language": "python",
   "name": "python3"
  },
  "language_info": {
   "codemirror_mode": {
    "name": "ipython",
    "version": 3
   },
   "file_extension": ".py",
   "mimetype": "text/x-python",
   "name": "python",
   "nbconvert_exporter": "python",
   "pygments_lexer": "ipython3",
   "version": "3.9.12"
  }
 },
 "nbformat": 4,
 "nbformat_minor": 5
}
